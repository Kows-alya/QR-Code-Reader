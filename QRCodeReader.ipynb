{
 "cells": [
  {
   "cell_type": "markdown",
   "id": "ce12435f",
   "metadata": {},
   "source": [
    "# QR Code Generator\n"
   ]
  },
  {
   "cell_type": "code",
   "execution_count": 1,
   "id": "ca1c58c8",
   "metadata": {
    "scrolled": true
   },
   "outputs": [
    {
     "name": "stdout",
     "output_type": "stream",
     "text": [
      "Requirement already satisfied: qrcode in c:\\users\\admin\\anaconda3\\lib\\site-packages (7.4.2)\n",
      "Requirement already satisfied: colorama in c:\\users\\admin\\anaconda3\\lib\\site-packages (from qrcode) (0.4.6)\n",
      "Requirement already satisfied: typing-extensions in c:\\users\\admin\\anaconda3\\lib\\site-packages (from qrcode) (4.4.0)\n",
      "Requirement already satisfied: pypng in c:\\users\\admin\\anaconda3\\lib\\site-packages (from qrcode) (0.20220715.0)\n",
      "Note: you may need to restart the kernel to use updated packages.\n"
     ]
    }
   ],
   "source": [
    "pip install qrcode"
   ]
  },
  {
   "cell_type": "code",
   "execution_count": 2,
   "id": "1e50a56a",
   "metadata": {},
   "outputs": [],
   "source": [
    "#Text QR Code\n",
    "\n",
    "import qrcode\n",
    "\n",
    "\n",
    "qr = qrcode.make('Hi, Hello This is my First QR Code')\n",
    "qr.save('MyQR.png')"
   ]
  },
  {
   "cell_type": "code",
   "execution_count": 3,
   "id": "7aa3eefd",
   "metadata": {},
   "outputs": [],
   "source": [
    "# Linked QR Code\n",
    "\n",
    "qr = qrcode.make('https://www.youtube.com/')\n",
    "qr.save('yt.png')"
   ]
  },
  {
   "cell_type": "markdown",
   "id": "da228c67",
   "metadata": {},
   "source": [
    "# Barcode Generator"
   ]
  },
  {
   "cell_type": "code",
   "execution_count": 4,
   "id": "a91c6672",
   "metadata": {},
   "outputs": [
    {
     "name": "stdout",
     "output_type": "stream",
     "text": [
      "Requirement already satisfied: python-barcode in c:\\users\\admin\\anaconda3\\lib\\site-packages (0.13.1)Note: you may need to restart the kernel to use updated packages.\n",
      "\n"
     ]
    }
   ],
   "source": [
    "pip install python-barcode"
   ]
  },
  {
   "cell_type": "code",
   "execution_count": 5,
   "id": "f3c0a366",
   "metadata": {
    "scrolled": true
   },
   "outputs": [
    {
     "data": {
      "text/plain": [
       "'Barcode.png'"
      ]
     },
     "execution_count": 5,
     "metadata": {},
     "output_type": "execute_result"
    }
   ],
   "source": [
    "from barcode import EAN13\n",
    "from barcode.writer import ImageWriter\n",
    "\n",
    "num = \"2000000000798\"\n",
    "barcode = EAN13 (num, writer=ImageWriter())\n",
    "barcode.save(\"Barcode\")"
   ]
  },
  {
   "cell_type": "markdown",
   "id": "d97f01c7",
   "metadata": {},
   "source": [
    "# QR Code & Barcode Reader"
   ]
  },
  {
   "cell_type": "code",
   "execution_count": 6,
   "id": "de1ca926",
   "metadata": {},
   "outputs": [
    {
     "name": "stdout",
     "output_type": "stream",
     "text": [
      "Requirement already satisfied: opencv-python in c:\\users\\admin\\anaconda3\\lib\\site-packages (4.8.1.78)\n",
      "Requirement already satisfied: numpy>=1.17.0 in c:\\users\\admin\\anaconda3\\lib\\site-packages (from opencv-python) (1.23.5)\n",
      "Note: you may need to restart the kernel to use updated packages.\n"
     ]
    }
   ],
   "source": [
    "pip install opencv-python"
   ]
  },
  {
   "cell_type": "code",
   "execution_count": 7,
   "id": "67922551",
   "metadata": {},
   "outputs": [
    {
     "name": "stdout",
     "output_type": "stream",
     "text": [
      "Requirement already satisfied: pyzbar in c:\\users\\admin\\anaconda3\\lib\\site-packages (0.1.9)\n",
      "Note: you may need to restart the kernel to use updated packages.\n"
     ]
    }
   ],
   "source": [
    "pip install pyzbar"
   ]
  },
  {
   "cell_type": "code",
   "execution_count": 8,
   "id": "e1ec9ee5",
   "metadata": {},
   "outputs": [
    {
     "name": "stdout",
     "output_type": "stream",
     "text": [
      "Decoded data written to output.txt\n"
     ]
    }
   ],
   "source": [
    "import cv2\n",
    "from pyzbar.pyzbar import decode\n",
    "\n",
    "img = cv2.imread(\"Barcode.png\") # Read the Image\n",
    "for i in decode(img):      \n",
    "        out = i.data.decode('utf-8')  # Decode the QR/Barcode\n",
    "\n",
    "with open(\"output.txt\",'w') as file:  \n",
    "        file.write(out)               #  'w' mode Open a new file & write the decoded data\n",
    "        print(f\"Decoded data written to {'output.txt'}\")"
   ]
  },
  {
   "cell_type": "code",
   "execution_count": null,
   "id": "11b4f0f8",
   "metadata": {},
   "outputs": [],
   "source": []
  }
 ],
 "metadata": {
  "kernelspec": {
   "display_name": "Python 3 (ipykernel)",
   "language": "python",
   "name": "python3"
  },
  "language_info": {
   "codemirror_mode": {
    "name": "ipython",
    "version": 3
   },
   "file_extension": ".py",
   "mimetype": "text/x-python",
   "name": "python",
   "nbconvert_exporter": "python",
   "pygments_lexer": "ipython3",
   "version": "3.10.9"
  }
 },
 "nbformat": 4,
 "nbformat_minor": 5
}
